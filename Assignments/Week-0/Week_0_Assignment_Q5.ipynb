{
 "cells": [
  {
   "cell_type": "code",
   "execution_count": 1,
   "id": "0f37294c",
   "metadata": {},
   "outputs": [],
   "source": [
    "import qiskit"
   ]
  },
  {
   "cell_type": "code",
   "execution_count": 12,
   "id": "5602f893",
   "metadata": {},
   "outputs": [
    {
     "name": "stdout",
     "output_type": "stream",
     "text": [
      "     ┌───┐     \n",
      "q_0: ┤ H ├──■──\n",
      "     └───┘┌─┴─┐\n",
      "q_1: ─────┤ X ├\n",
      "          └───┘\n",
      "Resulting Statevector:\n",
      "Statevector([0.70710678+0.j, 0.        +0.j, 0.        +0.j,\n",
      "             0.70710678+0.j],\n",
      "            dims=(2, 2))\n"
     ]
    }
   ],
   "source": [
    "# For preparing Bell state \\beta_{00} using |00⟩\n",
    "from qiskit import QuantumCircuit, transpile, assemble, Aer, execute\n",
    "from math import sqrt\n",
    "\n",
    "# Create a quantum circuit with 2 qubits\n",
    "circuit = QuantumCircuit(2)\n",
    "\n",
    "# Apply Hadamard gate (H) to the first qubit\n",
    "circuit.h(0)\n",
    "\n",
    "# Apply CNOT gate (CX) between the first qubit and the second qubit\n",
    "circuit.cx(0, 1)\n",
    "\n",
    "# Visualize the circuit\n",
    "print(circuit)\n",
    "\n",
    "# Simulate the circuit\n",
    "simulator = Aer.get_backend('statevector_simulator')\n",
    "job = execute(circuit, simulator)\n",
    "result = job.result()\n",
    "statevector = result.get_statevector()\n",
    "\n",
    "# Print the resulting statevector\n",
    "print(\"Resulting Statevector:\")\n",
    "print(statevector)\n"
   ]
  },
  {
   "cell_type": "code",
   "execution_count": 13,
   "id": "73f18d3d",
   "metadata": {},
   "outputs": [
    {
     "name": "stdout",
     "output_type": "stream",
     "text": [
      "     ┌───┐          \n",
      "q_0: ┤ H ├──■────■──\n",
      "     └───┘┌─┴─┐  │  \n",
      "q_1: ─────┤ X ├──┼──\n",
      "          └───┘┌─┴─┐\n",
      "q_2: ──────────┤ X ├\n",
      "               └───┘\n",
      "Resulting Statevector:\n",
      "Statevector([0.70710678+0.j, 0.        +0.j, 0.        +0.j,\n",
      "             0.        +0.j, 0.        +0.j, 0.        +0.j,\n",
      "             0.        +0.j, 0.70710678+0.j],\n",
      "            dims=(2, 2, 2))\n"
     ]
    }
   ],
   "source": [
    "# Create a quantum circuit with 3 qubits\n",
    "circuit = QuantumCircuit(3)\n",
    "\n",
    "# Apply Hadamard gate (H) to the first qubit\n",
    "circuit.h(0)\n",
    "\n",
    "# Apply CNOT gate (CX) between the first qubit and the second qubit\n",
    "circuit.cx(0, 1)\n",
    "\n",
    "# Apply CNOT gate (CX) between the first qubit and the third qubit\n",
    "circuit.cx(0, 2)\n",
    "\n",
    "# Visualize the circuit\n",
    "print(circuit)\n",
    "\n",
    "# Simulate the circuit\n",
    "simulator = Aer.get_backend('statevector_simulator')\n",
    "job = execute(circuit, simulator)\n",
    "result = job.result()\n",
    "statevector = result.get_statevector()\n",
    "\n",
    "# Print the resulting statevector\n",
    "print(\"Resulting Statevector:\")\n",
    "print(statevector)"
   ]
  }
 ],
 "metadata": {
  "kernelspec": {
   "display_name": "Python 3 (ipykernel)",
   "language": "python",
   "name": "python3"
  },
  "language_info": {
   "codemirror_mode": {
    "name": "ipython",
    "version": 3
   },
   "file_extension": ".py",
   "mimetype": "text/x-python",
   "name": "python",
   "nbconvert_exporter": "python",
   "pygments_lexer": "ipython3",
   "version": "3.10.9"
  }
 },
 "nbformat": 4,
 "nbformat_minor": 5
}
