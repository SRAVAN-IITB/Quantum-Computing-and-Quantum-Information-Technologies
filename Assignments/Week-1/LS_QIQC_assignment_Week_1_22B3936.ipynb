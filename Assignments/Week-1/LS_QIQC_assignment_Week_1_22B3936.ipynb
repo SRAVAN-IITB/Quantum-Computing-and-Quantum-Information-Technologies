{
 "cells": [
  {
   "cell_type": "code",
   "execution_count": 1,
   "id": "c5046ca5",
   "metadata": {},
   "outputs": [],
   "source": [
    "# Learner's Space: Quantum Computing Assignment_Week-1\n",
    "# NAME: Sravan K Suresh\n",
    "# Roll no: 22B3936"
   ]
  },
  {
   "cell_type": "code",
   "execution_count": 2,
   "id": "1b2a190f",
   "metadata": {},
   "outputs": [],
   "source": [
    "from qiskit import QuantumCircuit, Aer, execute, transpile, assemble\n",
    "import qiskit.quantum_info as qi\n",
    "from qiskit.quantum_info import Statevector, Operator\n",
    "from qiskit.visualization import array_to_latex, circuit_drawer, plot_bloch_multivector, plot_histogram\n",
    "import numpy as np\n",
    "import matplotlib.pyplot as plt"
   ]
  },
  {
   "cell_type": "code",
   "execution_count": 3,
   "id": "172c52d4",
   "metadata": {},
   "outputs": [],
   "source": [
    "# Q.1a] Code up the circuit to swap the states of two qubits. You should have seen the circuit\n",
    "# already in QCQI/Qiskit Textbook"
   ]
  },
  {
   "cell_type": "code",
   "execution_count": 4,
   "id": "0715338e",
   "metadata": {},
   "outputs": [
    {
     "data": {
      "text/html": [
       "<pre style=\"word-wrap: normal;white-space: pre;background: #fff0;line-height: 1.1;font-family: &quot;Courier New&quot;,Courier,monospace\">          ┌───┐     \n",
       "q_0: ──■──┤ X ├──■──\n",
       "     ┌─┴─┐└─┬─┘┌─┴─┐\n",
       "q_1: ┤ X ├──■──┤ X ├\n",
       "     └───┘     └───┘</pre>"
      ],
      "text/plain": [
       "          ┌───┐     \n",
       "q_0: ──■──┤ X ├──■──\n",
       "     ┌─┴─┐└─┬─┘┌─┴─┐\n",
       "q_1: ┤ X ├──■──┤ X ├\n",
       "     └───┘     └───┘"
      ]
     },
     "execution_count": 4,
     "metadata": {},
     "output_type": "execute_result"
    }
   ],
   "source": [
    "# Create a quantum circuit with two qubits\n",
    "qc_swap = QuantumCircuit(2)\n",
    "\n",
    "# Apply the swap operation using CNOT gates\n",
    "qc_swap.cx(0, 1)  # Controlled-NOT gate with qubit 0 as control and qubit 1 as target\n",
    "qc_swap.cx(1, 0)  # Controlled-NOT gate with qubit 1 as control and qubit 0 as target\n",
    "qc_swap.cx(0, 1)  # Controlled-NOT gate with qubit 0 as control and qubit 1 as target\n",
    "\n",
    "# The first CNOT swaps qubit 0 into qubit 1 if qubit 0 is in state |1|, \n",
    "# and the second CNOT undoes this operation, bringing the state of qubit 1 back to qubit 0. \n",
    "# Finally, the third CNOT swaps the state of qubit 1 back into qubit 0.\n",
    "\n",
    "# Visualize the circuit\n",
    "qc_swap.draw()"
   ]
  },
  {
   "cell_type": "code",
   "execution_count": 5,
   "id": "5685fbaa",
   "metadata": {
    "scrolled": false
   },
   "outputs": [
    {
     "name": "stdout",
     "output_type": "stream",
     "text": [
      "Final statevector after the swap:\n",
      "Statevector([1.+0.j, 0.+0.j, 0.+0.j, 0.+0.j],\n",
      "            dims=(2, 2))\n"
     ]
    }
   ],
   "source": [
    "# Execute the circuit on a simulator\n",
    "simulator = Aer.get_backend('statevector_simulator')\n",
    "result = execute(qc_swap, simulator).result()\n",
    "statevector = result.get_statevector()\n",
    "\n",
    "# State input to circuit- Computational basis state { |00⟩ } (hence I expect |00⟩ = [1, 0, 0, 0] to be returned)\n",
    "\n",
    "# Print the final statevector after the swap\n",
    "print(\"Final statevector after the swap:\")\n",
    "print(statevector)"
   ]
  },
  {
   "cell_type": "code",
   "execution_count": 6,
   "id": "63d666ca",
   "metadata": {
    "scrolled": true
   },
   "outputs": [
    {
     "name": "stdout",
     "output_type": "stream",
     "text": [
      "{'01': 1024}\n"
     ]
    }
   ],
   "source": [
    "# Trial run with qubits |10⟩, expected output: |01⟩ (Qubits swapped)\n",
    "# Define the ket vector for the input state |psi⟩ = a|00⟩ + b|01⟩ + c|10⟩ + d|11⟩\n",
    "a = 0\n",
    "b = 0\n",
    "c = 1\n",
    "d = 0\n",
    "\n",
    "input_ket_vector = [a, b, c, d]  # Ket vector [a, b, c, d]\n",
    "\n",
    "# Create a quantum circuit with the desired number of qubits\n",
    "num_qubits = 2\n",
    "qc_swap = QuantumCircuit(num_qubits)\n",
    "\n",
    "# Feed the input state to the quantum circuit using the initialize method\n",
    "qc_swap.initialize(input_ket_vector, range(num_qubits))\n",
    "\n",
    "qc_swap.cx(0, 1)  # Controlled-NOT gate with qubit 0 as control and qubit 1 as target\n",
    "qc_swap.cx(1, 0)  # Controlled-NOT gate with qubit 1 as control and qubit 0 as target\n",
    "qc_swap.cx(0, 1)  # Controlled-NOT gate with qubit 0 as control and qubit 1 as target\n",
    "\n",
    "# Measure the qubits (if necessary) to get the measurement outcomes\n",
    "qc_swap.measure_all()\n",
    "\n",
    "# Simulate the circuit\n",
    "simulator = Aer.get_backend('qasm_simulator')\n",
    "job = execute(qc_swap, simulator, shots=1024)  # You can adjust the number of shots as needed\n",
    "result = job.result()\n",
    "\n",
    "# Now that I've set the registers of input qubits to this circuit as |10⟩ (as c = 1), \n",
    "# I expect the output by this ckt to be |01⟩\n",
    "\n",
    "# Get the counts from the result\n",
    "counts = result.get_counts(qc_swap)\n",
    "print(counts)"
   ]
  },
  {
   "cell_type": "code",
   "execution_count": 7,
   "id": "b0c1d08d",
   "metadata": {},
   "outputs": [],
   "source": [
    "# Q.1b] Given a three digit binary number abc, code up a circuit to increment the number by 1\n",
    "# (mod 8) The result should be stored in-place, i.e., in the same qubits that are used for the\n",
    "# inputs. The inputs will be of the form |a⟩ ⊗ |b⟩ ⊗ |c⟩ where a, b, c are each either 0 or 1"
   ]
  },
  {
   "cell_type": "code",
   "execution_count": 8,
   "id": "8796140f",
   "metadata": {},
   "outputs": [
    {
     "data": {
      "text/html": [
       "<pre style=\"word-wrap: normal;white-space: pre;background: #fff0;line-height: 1.1;font-family: &quot;Courier New&quot;,Courier,monospace\">               ┌───┐\n",
       "q_0: ──■────■──┤ X ├\n",
       "       │  ┌─┴─┐└───┘\n",
       "q_1: ──■──┤ X ├─────\n",
       "     ┌─┴─┐└───┘     \n",
       "q_2: ┤ X ├──────────\n",
       "     └───┘          </pre>"
      ],
      "text/plain": [
       "               ┌───┐\n",
       "q_0: ──■────■──┤ X ├\n",
       "       │  ┌─┴─┐└───┘\n",
       "q_1: ──■──┤ X ├─────\n",
       "     ┌─┴─┐└───┘     \n",
       "q_2: ┤ X ├──────────\n",
       "     └───┘          "
      ]
     },
     "execution_count": 8,
     "metadata": {},
     "output_type": "execute_result"
    }
   ],
   "source": [
    "# Create a quantum circuit with two qubits\n",
    "qc_mod8 = QuantumCircuit(3)\n",
    "\n",
    "# Apply the increment by 1 (mod 8) operation using gates Pauli-X, Controlled-NOT and Controlled-controlled-NOT (Toffoli)\n",
    "\n",
    "qc_mod8.ccx(0, 1, 2)  # Toffoli gate with qubit 0 and qubit 1 as control and qubit 2 as target\n",
    "qc_mod8.cx(0, 1)  # Controlled-NOT gate with qubit 1 as control and qubit 0 as target\n",
    "qc_mod8.x(0)  # X gate on qubit 0 \n",
    "\n",
    "# Visualize the circuit\n",
    "qc_mod8.draw()"
   ]
  },
  {
   "cell_type": "code",
   "execution_count": 9,
   "id": "a681f956",
   "metadata": {},
   "outputs": [
    {
     "name": "stdout",
     "output_type": "stream",
     "text": [
      "Final statevector after the increment:\n",
      "Statevector([0.+0.j, 1.+0.j, 0.+0.j, 0.+0.j, 0.+0.j, 0.+0.j, 0.+0.j,\n",
      "             0.+0.j],\n",
      "            dims=(2, 2, 2))\n"
     ]
    }
   ],
   "source": [
    "# Execute the circuit on a simulator\n",
    "simulator = Aer.get_backend('statevector_simulator')\n",
    "result = execute(qc_mod8, simulator).result()\n",
    "statevector = result.get_statevector()\n",
    "\n",
    "# State input to circuit- Computational basis state { |000⟩ } \n",
    "# (hence I expect the output to be |001⟩ = [0, 1, 0, 0, 0, 0, 0, 0, 0] to be returned)\n",
    "\n",
    "# Print the final statevector after the swap\n",
    "print(\"Final statevector after the increment:\")\n",
    "print(statevector)"
   ]
  },
  {
   "cell_type": "code",
   "execution_count": 10,
   "id": "7417ae63",
   "metadata": {},
   "outputs": [
    {
     "name": "stdout",
     "output_type": "stream",
     "text": [
      "{'000': 1024}\n"
     ]
    }
   ],
   "source": [
    "# Trial run with qubits |111⟩, expected output: |000⟩\n",
    "# Define the ket vector for the input state |psi⟩ = a|000⟩ + b|001⟩ + c|010⟩ + d|011⟩ + e|100⟩ + f|101⟩ + g|110⟩ + h|111⟩\n",
    "a = 0\n",
    "b = 0\n",
    "c = 0\n",
    "d = 0\n",
    "e = 0\n",
    "f = 0\n",
    "g = 0\n",
    "h = 1\n",
    "\n",
    "input_ket_vector = [a, b, c, d, e, f, g, h]  # Ket vector [a, b, c, d, e, f, g, h]\n",
    "\n",
    "# Create a quantum circuit with the desired number of qubits\n",
    "num_qubits = 3\n",
    "qc_mod8 = QuantumCircuit(num_qubits)\n",
    "\n",
    "# Feed the input state to the quantum circuit using the initialize method\n",
    "qc_mod8.initialize(input_ket_vector, range(num_qubits))\n",
    "\n",
    "qc_mod8.ccx(0, 1, 2)  # Toffoli gate with qubit 0 and qubit 1 as control and qubit 2 as target\n",
    "qc_mod8.cx(0, 1)  # Controlled-NOT gate with qubit 1 as control and qubit 0 as target\n",
    "qc_mod8.x(0)  # X gate on qubit 0\n",
    "\n",
    "# Measure the qubits (if necessary) to get the measurement outcomes\n",
    "qc_mod8.measure_all()\n",
    "\n",
    "# Simulate the circuit\n",
    "simulator = Aer.get_backend('qasm_simulator')\n",
    "job = execute(qc_mod8, simulator, shots=1024)  # You can adjust the number of shots as needed\n",
    "result = job.result()\n",
    "\n",
    "# Get the counts from the result\n",
    "counts = result.get_counts(qc_mod8)\n",
    "print(counts)"
   ]
  },
  {
   "cell_type": "code",
   "execution_count": 11,
   "id": "8d446da8",
   "metadata": {},
   "outputs": [],
   "source": [
    "# Q.1d] The Hamming Weight of a binary number is the number of 1s in its binary representa\u0002tion.\n",
    "# For a binary number with 3 bits, construct a circuit that takes |x⟩ |0⟩ to |x⟩ |w(x)⟩ where\n",
    "# w(x) is the Hamming weight of (x)."
   ]
  },
  {
   "cell_type": "code",
   "execution_count": 12,
   "id": "7864ebec",
   "metadata": {
    "scrolled": true
   },
   "outputs": [
    {
     "data": {
      "text/html": [
       "<pre style=\"word-wrap: normal;white-space: pre;background: #fff0;line-height: 1.1;font-family: &quot;Courier New&quot;,Courier,monospace\">                              \n",
       "q_0: ──■──────────────────────\n",
       "       │                      \n",
       "q_1: ──┼────■────■────────────\n",
       "       │    │    │            \n",
       "q_2: ──┼────┼────┼────■────■──\n",
       "       │  ┌─┴─┐  │  ┌─┴─┐  │  \n",
       "q_3: ──┼──┤ X ├──┼──┤ X ├──┼──\n",
       "     ┌─┴─┐└─┬─┘┌─┴─┐└─┬─┘┌─┴─┐\n",
       "q_4: ┤ X ├──■──┤ X ├──■──┤ X ├\n",
       "     └───┘     └───┘     └───┘</pre>"
      ],
      "text/plain": [
       "                              \n",
       "q_0: ──■──────────────────────\n",
       "       │                      \n",
       "q_1: ──┼────■────■────────────\n",
       "       │    │    │            \n",
       "q_2: ──┼────┼────┼────■────■──\n",
       "       │  ┌─┴─┐  │  ┌─┴─┐  │  \n",
       "q_3: ──┼──┤ X ├──┼──┤ X ├──┼──\n",
       "     ┌─┴─┐└─┬─┘┌─┴─┐└─┬─┘┌─┴─┐\n",
       "q_4: ┤ X ├──■──┤ X ├──■──┤ X ├\n",
       "     └───┘     └───┘     └───┘"
      ]
     },
     "execution_count": 12,
     "metadata": {},
     "output_type": "execute_result"
    }
   ],
   "source": [
    "# Create a quantum circuit\n",
    "qc_HammingW = QuantumCircuit(5)\n",
    "        \n",
    "qc_HammingW.cx(0, 4)\n",
    "qc_HammingW.ccx(1, 4, 3)\n",
    "qc_HammingW.cx(1, 4)\n",
    "qc_HammingW.ccx(2, 4, 3)\n",
    "qc_HammingW.cx(2, 4)\n",
    "\n",
    "# Visualize the circuit\n",
    "qc_HammingW.draw()\n",
    "\n",
    "# Here, q_3 and q_4 ought to be universally 0 (I think so)"
   ]
  },
  {
   "cell_type": "code",
   "execution_count": 13,
   "id": "51db3b41",
   "metadata": {},
   "outputs": [],
   "source": [
    "# Q.2] Implement either the Deutsch-Josza or Bernstein Vazirani algorithms (try not to copy Qiskit\n",
    "# Textbook, please :))"
   ]
  },
  {
   "cell_type": "code",
   "execution_count": 14,
   "id": "c8e0ac74",
   "metadata": {
    "scrolled": true
   },
   "outputs": [
    {
     "name": "stdout",
     "output_type": "stream",
     "text": [
      "The secret string is: 010101\n",
      "Measurement result: 101010\n"
     ]
    }
   ],
   "source": [
    "# Define the Bernstein-Vazirani algorithm function\n",
    "def BV_algo(secret_string):\n",
    "    # Calculate the number of qubits required\n",
    "    n_qubits = len(secret_string)\n",
    "    \n",
    "    # Create a quantum circuit with n_qubits plus one ancillary qubit and a classical output bit\n",
    "    circuit = QuantumCircuit(n_qubits + 1, n_qubits)\n",
    "    \n",
    "    # Apply Hadamard gate to all qubits\n",
    "    circuit.h(range(n_qubits))\n",
    "    \n",
    "    # Apply X and H gate to the ancillary qubit\n",
    "    circuit.x(n_qubits)\n",
    "    circuit.h(n_qubits)\n",
    "    \n",
    "    # Apply the secret string function to the quantum circuit\n",
    "    for qubit in range(n_qubits):\n",
    "        if secret_string[qubit] == '1':\n",
    "            circuit.cx(qubit, n_qubits)\n",
    "            \n",
    "    # Apply Hadamard gate to the first n_qubits\n",
    "    circuit.h(range(n_qubits))\n",
    "    \n",
    "    # Measure the first n_qubits\n",
    "    circuit.measure(range(n_qubits), range(n_qubits))\n",
    "    \n",
    "    return circuit\n",
    "\n",
    "# Trial Run (example: \"101010\")\n",
    "secret_string = \"101010\"\n",
    "\n",
    "# Create the quantum circuit for the given secret string\n",
    "circuit = BV_algo(secret_string)\n",
    "\n",
    "# Simulate the quantum circuit using the Aer simulator\n",
    "simulator = Aer.get_backend('qasm_simulator')\n",
    "job = execute(circuit, simulator, shots=1)\n",
    "\n",
    "# Get the result\n",
    "result = job.result()\n",
    "counts = result.get_counts(circuit)\n",
    "\n",
    "# Print the result\n",
    "print(\"The secret string is:\", secret_string[::-1])\n",
    "print(\"Measurement result:\", list(counts.keys())[0][::-1])"
   ]
  },
  {
   "cell_type": "code",
   "execution_count": 15,
   "id": "2dc1b3b3",
   "metadata": {},
   "outputs": [],
   "source": [
    "# Q.4] Implement the following in qiskit as well (Implementation always helps you understand it\n",
    "# better)\n",
    "# • Quantum Fourier Transform\n",
    "# • Quantum Phase Estimation\n",
    "# • Shor’s Algorithm\n",
    "# • Grover’s Search Algorithm"
   ]
  },
  {
   "cell_type": "code",
   "execution_count": 16,
   "id": "028c2e4b",
   "metadata": {},
   "outputs": [
    {
     "data": {
      "text/html": [
       "<pre style=\"word-wrap: normal;white-space: pre;background: #fff0;line-height: 1.1;font-family: &quot;Courier New&quot;,Courier,monospace\">     ┌───┐                                    \n",
       "q_0: ┤ H ├─■──────■─────────────────────────X─\n",
       "     └───┘ │P(π)  │       ┌───┐             │ \n",
       "q_1: ──────■──────┼───────┤ H ├─■───────────┼─\n",
       "                  │P(π/2) └───┘ │P(π) ┌───┐ │ \n",
       "q_2: ─────────────■─────────────■─────┤ H ├─X─\n",
       "                                      └───┘   </pre>"
      ],
      "text/plain": [
       "     ┌───┐                                    \n",
       "q_0: ┤ H ├─■──────■─────────────────────────X─\n",
       "     └───┘ │P(π)  │       ┌───┐             │ \n",
       "q_1: ──────■──────┼───────┤ H ├─■───────────┼─\n",
       "                  │P(π/2) └───┘ │P(π) ┌───┐ │ \n",
       "q_2: ─────────────■─────────────■─────┤ H ├─X─\n",
       "                                      └───┘   "
      ]
     },
     "execution_count": 16,
     "metadata": {},
     "output_type": "execute_result"
    }
   ],
   "source": [
    "# Function to create the Quantum Fourier Transform (QFT) circuit\n",
    "def qft(n):\n",
    "    circuit = QuantumCircuit(n)\n",
    "\n",
    "    for qubit in range(n):\n",
    "        circuit.h(qubit)\n",
    "        for controlled_qubit in range(qubit+1, n):\n",
    "            angle = 2 * np.pi / (2 ** (controlled_qubit - qubit))\n",
    "            circuit.cp(angle, controlled_qubit, qubit)\n",
    "            \n",
    "    # Swap the qubits\n",
    "    for i in range(n // 2):\n",
    "        circuit.swap(i, n - i - 1)\n",
    "\n",
    "    return circuit\n",
    "\n",
    "# Number of qubits\n",
    "n_qubits = 3\n",
    "\n",
    "# Here I've used n_qubits = 3, similarly n = 4, 5, ...... can be simulated by changing 'n' here\n",
    "\n",
    "# Create the Quantum Circuit for QFT\n",
    "qc = qft(n_qubits)\n",
    "\n",
    "# Visualize the circuit\n",
    "qc.draw()\n"
   ]
  },
  {
   "cell_type": "code",
   "execution_count": 17,
   "id": "e5bacf35",
   "metadata": {},
   "outputs": [],
   "source": [
    "# I am left with Q.3] and 3 parts of Q.4] which I will complete soon.\n",
    "# I am not able to complete it right now as I am down with high fever :("
   ]
  }
 ],
 "metadata": {
  "kernelspec": {
   "display_name": "Python 3 (ipykernel)",
   "language": "python",
   "name": "python3"
  },
  "language_info": {
   "codemirror_mode": {
    "name": "ipython",
    "version": 3
   },
   "file_extension": ".py",
   "mimetype": "text/x-python",
   "name": "python",
   "nbconvert_exporter": "python",
   "pygments_lexer": "ipython3",
   "version": "3.10.9"
  }
 },
 "nbformat": 4,
 "nbformat_minor": 5
}
